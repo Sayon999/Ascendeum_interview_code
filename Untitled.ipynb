{
 "cells": [
  {
   "cell_type": "code",
   "execution_count": 1,
   "id": "a8ea7f06",
   "metadata": {},
   "outputs": [
    {
     "name": "stdout",
     "output_type": "stream",
     "text": [
      "Requirement already satisfied: pandas in c:\\users\\admin\\appdata\\local\\programs\\python\\python310\\lib\\site-packages (2.0.2)"
     ]
    },
    {
     "name": "stderr",
     "output_type": "stream",
     "text": [
      "\n",
      "[notice] A new release of pip is available: 24.0 -> 25.1.1\n",
      "[notice] To update, run: python.exe -m pip install --upgrade pip\n"
     ]
    },
    {
     "name": "stdout",
     "output_type": "stream",
     "text": [
      "\n",
      "Requirement already satisfied: python-dateutil>=2.8.2 in c:\\users\\admin\\appdata\\local\\programs\\python\\python310\\lib\\site-packages (from pandas) (2.8.2)\n",
      "Requirement already satisfied: pytz>=2020.1 in c:\\users\\admin\\appdata\\local\\programs\\python\\python310\\lib\\site-packages (from pandas) (2023.3)\n",
      "Requirement already satisfied: tzdata>=2022.1 in c:\\users\\admin\\appdata\\local\\programs\\python\\python310\\lib\\site-packages (from pandas) (2023.3)\n",
      "Requirement already satisfied: numpy>=1.21.0 in c:\\users\\admin\\appdata\\local\\programs\\python\\python310\\lib\\site-packages (from pandas) (1.24.1)\n",
      "Requirement already satisfied: six>=1.5 in c:\\users\\admin\\appdata\\local\\programs\\python\\python310\\lib\\site-packages (from python-dateutil>=2.8.2->pandas) (1.16.0)\n"
     ]
    }
   ],
   "source": [
    "!pip install pandas"
   ]
  },
  {
   "cell_type": "code",
   "execution_count": 3,
   "id": "911a9c23",
   "metadata": {},
   "outputs": [],
   "source": [
    "import pandas as pd"
   ]
  },
  {
   "cell_type": "code",
   "execution_count": 8,
   "id": "12dd5a5e",
   "metadata": {},
   "outputs": [],
   "source": [
    "df = pd.read_csv(\"analysis_id (1)(in).csv\")"
   ]
  },
  {
   "cell_type": "code",
   "execution_count": 9,
   "id": "49e2517b",
   "metadata": {},
   "outputs": [
    {
     "data": {
      "text/html": [
       "<div>\n",
       "<style scoped>\n",
       "    .dataframe tbody tr th:only-of-type {\n",
       "        vertical-align: middle;\n",
       "    }\n",
       "\n",
       "    .dataframe tbody tr th {\n",
       "        vertical-align: top;\n",
       "    }\n",
       "\n",
       "    .dataframe thead th {\n",
       "        text-align: right;\n",
       "    }\n",
       "</style>\n",
       "<table border=\"1\" class=\"dataframe\">\n",
       "  <thead>\n",
       "    <tr style=\"text-align: right;\">\n",
       "      <th></th>\n",
       "      <th>Unnamed: 0</th>\n",
       "      <th>date_hour</th>\n",
       "      <th>client</th>\n",
       "      <th>device_type</th>\n",
       "      <th>time_zone</th>\n",
       "      <th>os_name</th>\n",
       "      <th>browser_name</th>\n",
       "      <th>ad_unit</th>\n",
       "      <th>size</th>\n",
       "      <th>bidder</th>\n",
       "      <th>...</th>\n",
       "      <th>sum_time_to_respond</th>\n",
       "      <th>median</th>\n",
       "      <th>min_bid</th>\n",
       "      <th>max_bid</th>\n",
       "      <th>avg_bid</th>\n",
       "      <th>sum_2nd_highest_bid</th>\n",
       "      <th>sum_prebid_winning_bid</th>\n",
       "      <th>sum_winning_bid</th>\n",
       "      <th>sum_nobid</th>\n",
       "      <th>sum_timeout</th>\n",
       "    </tr>\n",
       "  </thead>\n",
       "  <tbody>\n",
       "    <tr>\n",
       "      <th>0</th>\n",
       "      <td>0</td>\n",
       "      <td>2021-04-11T01:00:00</td>\n",
       "      <td>asc126828</td>\n",
       "      <td>Desktop</td>\n",
       "      <td>America/Chicago</td>\n",
       "      <td>Linux</td>\n",
       "      <td>Chrome-85.04183133</td>\n",
       "      <td>div-gpt-ad-BT-D-Footers</td>\n",
       "      <td>728x90</td>\n",
       "      <td>onemobile</td>\n",
       "      <td>...</td>\n",
       "      <td>6614.0</td>\n",
       "      <td>NaN</td>\n",
       "      <td>0.58520</td>\n",
       "      <td>0.58520</td>\n",
       "      <td>0.585200</td>\n",
       "      <td>0.5852</td>\n",
       "      <td>0.5852</td>\n",
       "      <td>NaN</td>\n",
       "      <td>NaN</td>\n",
       "      <td>NaN</td>\n",
       "    </tr>\n",
       "    <tr>\n",
       "      <th>1</th>\n",
       "      <td>1</td>\n",
       "      <td>2021-04-11T01:00:00</td>\n",
       "      <td>asc126828</td>\n",
       "      <td>Desktop</td>\n",
       "      <td>America/Chicago</td>\n",
       "      <td>Linux</td>\n",
       "      <td>Chrome-85.04183133</td>\n",
       "      <td>div-gpt-ad-BT-D-Footers</td>\n",
       "      <td>728x90</td>\n",
       "      <td>rhythmone</td>\n",
       "      <td>...</td>\n",
       "      <td>5171.0</td>\n",
       "      <td>NaN</td>\n",
       "      <td>0.33945</td>\n",
       "      <td>0.34875</td>\n",
       "      <td>0.344100</td>\n",
       "      <td>NaN</td>\n",
       "      <td>NaN</td>\n",
       "      <td>NaN</td>\n",
       "      <td>NaN</td>\n",
       "      <td>NaN</td>\n",
       "    </tr>\n",
       "    <tr>\n",
       "      <th>2</th>\n",
       "      <td>2</td>\n",
       "      <td>2021-04-11T01:00:00</td>\n",
       "      <td>asc126828</td>\n",
       "      <td>Desktop</td>\n",
       "      <td>America/Chicago</td>\n",
       "      <td>Linux</td>\n",
       "      <td>Chrome-85.04183133</td>\n",
       "      <td>div-gpt-ad-BT-D-InLine-1</td>\n",
       "      <td>300x250</td>\n",
       "      <td>undertone</td>\n",
       "      <td>...</td>\n",
       "      <td>1523.0</td>\n",
       "      <td>NaN</td>\n",
       "      <td>0.96000</td>\n",
       "      <td>0.96000</td>\n",
       "      <td>0.960000</td>\n",
       "      <td>NaN</td>\n",
       "      <td>NaN</td>\n",
       "      <td>NaN</td>\n",
       "      <td>NaN</td>\n",
       "      <td>NaN</td>\n",
       "    </tr>\n",
       "    <tr>\n",
       "      <th>3</th>\n",
       "      <td>3</td>\n",
       "      <td>2021-04-11T01:00:00</td>\n",
       "      <td>asc126828</td>\n",
       "      <td>Desktop</td>\n",
       "      <td>America/Chicago</td>\n",
       "      <td>Linux</td>\n",
       "      <td>Chrome-85.04183133</td>\n",
       "      <td>div-gpt-ad-BT-D-O-300x250-1</td>\n",
       "      <td>300x250</td>\n",
       "      <td></td>\n",
       "      <td>...</td>\n",
       "      <td>NaN</td>\n",
       "      <td>NaN</td>\n",
       "      <td>NaN</td>\n",
       "      <td>NaN</td>\n",
       "      <td>NaN</td>\n",
       "      <td>NaN</td>\n",
       "      <td>NaN</td>\n",
       "      <td>NaN</td>\n",
       "      <td>NaN</td>\n",
       "      <td>NaN</td>\n",
       "    </tr>\n",
       "    <tr>\n",
       "      <th>4</th>\n",
       "      <td>4</td>\n",
       "      <td>2021-04-11T01:00:00</td>\n",
       "      <td>asc126828</td>\n",
       "      <td>Desktop</td>\n",
       "      <td>America/Chicago</td>\n",
       "      <td>Linux</td>\n",
       "      <td>Chrome-85.04183133</td>\n",
       "      <td>div-gpt-ad-BT-D-O-300x250-1</td>\n",
       "      <td>300x250</td>\n",
       "      <td>rhythmone</td>\n",
       "      <td>...</td>\n",
       "      <td>3570.0</td>\n",
       "      <td>0.34875</td>\n",
       "      <td>0.34410</td>\n",
       "      <td>0.34875</td>\n",
       "      <td>0.346425</td>\n",
       "      <td>NaN</td>\n",
       "      <td>NaN</td>\n",
       "      <td>NaN</td>\n",
       "      <td>NaN</td>\n",
       "      <td>NaN</td>\n",
       "    </tr>\n",
       "  </tbody>\n",
       "</table>\n",
       "<p>5 rows × 27 columns</p>\n",
       "</div>"
      ],
      "text/plain": [
       "   Unnamed: 0            date_hour     client device_type        time_zone  \\\n",
       "0           0  2021-04-11T01:00:00  asc126828     Desktop  America/Chicago   \n",
       "1           1  2021-04-11T01:00:00  asc126828     Desktop  America/Chicago   \n",
       "2           2  2021-04-11T01:00:00  asc126828     Desktop  America/Chicago   \n",
       "3           3  2021-04-11T01:00:00  asc126828     Desktop  America/Chicago   \n",
       "4           4  2021-04-11T01:00:00  asc126828     Desktop  America/Chicago   \n",
       "\n",
       "  os_name        browser_name                      ad_unit     size  \\\n",
       "0   Linux  Chrome-85.04183133      div-gpt-ad-BT-D-Footers   728x90   \n",
       "1   Linux  Chrome-85.04183133      div-gpt-ad-BT-D-Footers   728x90   \n",
       "2   Linux  Chrome-85.04183133     div-gpt-ad-BT-D-InLine-1  300x250   \n",
       "3   Linux  Chrome-85.04183133  div-gpt-ad-BT-D-O-300x250-1  300x250   \n",
       "4   Linux  Chrome-85.04183133  div-gpt-ad-BT-D-O-300x250-1  300x250   \n",
       "\n",
       "      bidder  ... sum_time_to_respond   median  min_bid  max_bid   avg_bid  \\\n",
       "0  onemobile  ...              6614.0      NaN  0.58520  0.58520  0.585200   \n",
       "1  rhythmone  ...              5171.0      NaN  0.33945  0.34875  0.344100   \n",
       "2  undertone  ...              1523.0      NaN  0.96000  0.96000  0.960000   \n",
       "3             ...                 NaN      NaN      NaN      NaN       NaN   \n",
       "4  rhythmone  ...              3570.0  0.34875  0.34410  0.34875  0.346425   \n",
       "\n",
       "   sum_2nd_highest_bid  sum_prebid_winning_bid  sum_winning_bid  sum_nobid  \\\n",
       "0               0.5852                  0.5852              NaN        NaN   \n",
       "1                  NaN                     NaN              NaN        NaN   \n",
       "2                  NaN                     NaN              NaN        NaN   \n",
       "3                  NaN                     NaN              NaN        NaN   \n",
       "4                  NaN                     NaN              NaN        NaN   \n",
       "\n",
       "   sum_timeout  \n",
       "0          NaN  \n",
       "1          NaN  \n",
       "2          NaN  \n",
       "3          NaN  \n",
       "4          NaN  \n",
       "\n",
       "[5 rows x 27 columns]"
      ]
     },
     "execution_count": 9,
     "metadata": {},
     "output_type": "execute_result"
    }
   ],
   "source": [
    "df.head(5)"
   ]
  },
  {
   "cell_type": "code",
   "execution_count": 10,
   "id": "4c233f63",
   "metadata": {},
   "outputs": [
    {
     "data": {
      "text/plain": [
       "Index(['Unnamed: 0', 'date_hour', 'client', 'device_type', 'time_zone',\n",
       "       'os_name', 'browser_name', 'ad_unit', 'size', 'bidder', 'bid_range',\n",
       "       'media_type', 'request_count', 'response_count', 'prebid_win_count',\n",
       "       'win_count', 'sum_bid', 'sum_time_to_respond', 'median', 'min_bid',\n",
       "       'max_bid', 'avg_bid', 'sum_2nd_highest_bid', 'sum_prebid_winning_bid',\n",
       "       'sum_winning_bid', 'sum_nobid', 'sum_timeout'],\n",
       "      dtype='object')"
      ]
     },
     "execution_count": 10,
     "metadata": {},
     "output_type": "execute_result"
    }
   ],
   "source": [
    "df.columns"
   ]
  },
  {
   "cell_type": "code",
   "execution_count": 17,
   "id": "d4e11c7c",
   "metadata": {},
   "outputs": [
    {
     "data": {
      "text/html": [
       "<div>\n",
       "<style scoped>\n",
       "    .dataframe tbody tr th:only-of-type {\n",
       "        vertical-align: middle;\n",
       "    }\n",
       "\n",
       "    .dataframe tbody tr th {\n",
       "        vertical-align: top;\n",
       "    }\n",
       "\n",
       "    .dataframe thead th {\n",
       "        text-align: right;\n",
       "    }\n",
       "</style>\n",
       "<table border=\"1\" class=\"dataframe\">\n",
       "  <thead>\n",
       "    <tr style=\"text-align: right;\">\n",
       "      <th></th>\n",
       "      <th>bidder</th>\n",
       "      <th>prebid_win_count</th>\n",
       "      <th>win_count</th>\n",
       "      <th>sum_bid</th>\n",
       "    </tr>\n",
       "  </thead>\n",
       "  <tbody>\n",
       "    <tr>\n",
       "      <th>0</th>\n",
       "      <td>onemobile</td>\n",
       "      <td>1.0</td>\n",
       "      <td>NaN</td>\n",
       "      <td>2.34080</td>\n",
       "    </tr>\n",
       "    <tr>\n",
       "      <th>1</th>\n",
       "      <td>rhythmone</td>\n",
       "      <td>NaN</td>\n",
       "      <td>NaN</td>\n",
       "      <td>1.03230</td>\n",
       "    </tr>\n",
       "    <tr>\n",
       "      <th>2</th>\n",
       "      <td>undertone</td>\n",
       "      <td>NaN</td>\n",
       "      <td>NaN</td>\n",
       "      <td>0.96000</td>\n",
       "    </tr>\n",
       "    <tr>\n",
       "      <th>3</th>\n",
       "      <td></td>\n",
       "      <td>NaN</td>\n",
       "      <td>NaN</td>\n",
       "      <td>NaN</td>\n",
       "    </tr>\n",
       "    <tr>\n",
       "      <th>4</th>\n",
       "      <td>rhythmone</td>\n",
       "      <td>NaN</td>\n",
       "      <td>NaN</td>\n",
       "      <td>0.69285</td>\n",
       "    </tr>\n",
       "    <tr>\n",
       "      <th>...</th>\n",
       "      <td>...</td>\n",
       "      <td>...</td>\n",
       "      <td>...</td>\n",
       "      <td>...</td>\n",
       "    </tr>\n",
       "    <tr>\n",
       "      <th>4995</th>\n",
       "      <td></td>\n",
       "      <td>NaN</td>\n",
       "      <td>NaN</td>\n",
       "      <td>NaN</td>\n",
       "    </tr>\n",
       "    <tr>\n",
       "      <th>4996</th>\n",
       "      <td>medianet</td>\n",
       "      <td>NaN</td>\n",
       "      <td>NaN</td>\n",
       "      <td>0.05828</td>\n",
       "    </tr>\n",
       "    <tr>\n",
       "      <th>4997</th>\n",
       "      <td></td>\n",
       "      <td>NaN</td>\n",
       "      <td>NaN</td>\n",
       "      <td>NaN</td>\n",
       "    </tr>\n",
       "    <tr>\n",
       "      <th>4998</th>\n",
       "      <td></td>\n",
       "      <td>NaN</td>\n",
       "      <td>NaN</td>\n",
       "      <td>NaN</td>\n",
       "    </tr>\n",
       "    <tr>\n",
       "      <th>4999</th>\n",
       "      <td></td>\n",
       "      <td>NaN</td>\n",
       "      <td>NaN</td>\n",
       "      <td>NaN</td>\n",
       "    </tr>\n",
       "  </tbody>\n",
       "</table>\n",
       "<p>5000 rows × 4 columns</p>\n",
       "</div>"
      ],
      "text/plain": [
       "         bidder  prebid_win_count  win_count  sum_bid\n",
       "0     onemobile               1.0        NaN  2.34080\n",
       "1     rhythmone               NaN        NaN  1.03230\n",
       "2     undertone               NaN        NaN  0.96000\n",
       "3                             NaN        NaN      NaN\n",
       "4     rhythmone               NaN        NaN  0.69285\n",
       "...         ...               ...        ...      ...\n",
       "4995                          NaN        NaN      NaN\n",
       "4996   medianet               NaN        NaN  0.05828\n",
       "4997                          NaN        NaN      NaN\n",
       "4998                          NaN        NaN      NaN\n",
       "4999                          NaN        NaN      NaN\n",
       "\n",
       "[5000 rows x 4 columns]"
      ]
     },
     "execution_count": 17,
     "metadata": {},
     "output_type": "execute_result"
    }
   ],
   "source": [
    "df[['bidder','prebid_win_count','win_count','sum_bid']]"
   ]
  },
  {
   "cell_type": "code",
   "execution_count": 19,
   "id": "610f7ae2",
   "metadata": {},
   "outputs": [
    {
     "data": {
      "text/plain": [
       "array(['asc126828'], dtype=object)"
      ]
     },
     "execution_count": 19,
     "metadata": {},
     "output_type": "execute_result"
    }
   ],
   "source": [
    "df['client'].unique()"
   ]
  },
  {
   "cell_type": "code",
   "execution_count": 25,
   "id": "015600f9",
   "metadata": {},
   "outputs": [
    {
     "data": {
      "text/plain": [
       "4814"
      ]
     },
     "execution_count": 25,
     "metadata": {},
     "output_type": "execute_result"
    }
   ],
   "source": [
    "df['sum_winning_bid'].isnull().sum()"
   ]
  },
  {
   "cell_type": "code",
   "execution_count": 24,
   "id": "6796ffd2",
   "metadata": {},
   "outputs": [
    {
     "data": {
      "text/plain": [
       "5000"
      ]
     },
     "execution_count": 24,
     "metadata": {},
     "output_type": "execute_result"
    }
   ],
   "source": [
    "df.shape[0]"
   ]
  },
  {
   "cell_type": "code",
   "execution_count": 26,
   "id": "9568a030",
   "metadata": {
    "scrolled": true
   },
   "outputs": [
    {
     "data": {
      "text/plain": [
       "Unnamed: 0                   0\n",
       "date_hour                    0\n",
       "client                       0\n",
       "device_type                  0\n",
       "time_zone                    0\n",
       "os_name                      0\n",
       "browser_name                 0\n",
       "ad_unit                      0\n",
       "size                         0\n",
       "bidder                       0\n",
       "bid_range                    0\n",
       "media_type                   0\n",
       "request_count                0\n",
       "response_count               0\n",
       "prebid_win_count          3833\n",
       "win_count                 4814\n",
       "sum_bid                   1210\n",
       "sum_time_to_respond       1210\n",
       "median                    3240\n",
       "min_bid                   1210\n",
       "max_bid                   1210\n",
       "avg_bid                   1210\n",
       "sum_2nd_highest_bid       4266\n",
       "sum_prebid_winning_bid    3833\n",
       "sum_winning_bid           4814\n",
       "sum_nobid                 5000\n",
       "sum_timeout               5000\n",
       "dtype: int64"
      ]
     },
     "execution_count": 26,
     "metadata": {},
     "output_type": "execute_result"
    }
   ],
   "source": [
    "df.isnull().sum()"
   ]
  },
  {
   "cell_type": "code",
   "execution_count": 28,
   "id": "df556048",
   "metadata": {},
   "outputs": [],
   "source": [
    "df.dropna(subset=['prebid_win_count'],inplace=True)"
   ]
  },
  {
   "cell_type": "code",
   "execution_count": 29,
   "id": "9ae6f4ac",
   "metadata": {},
   "outputs": [
    {
     "data": {
      "text/plain": [
       "Unnamed: 0                   0\n",
       "date_hour                    0\n",
       "client                       0\n",
       "device_type                  0\n",
       "time_zone                    0\n",
       "os_name                      0\n",
       "browser_name                 0\n",
       "ad_unit                      0\n",
       "size                         0\n",
       "bidder                       0\n",
       "bid_range                    0\n",
       "media_type                   0\n",
       "request_count                0\n",
       "response_count               0\n",
       "prebid_win_count             0\n",
       "win_count                 1083\n",
       "sum_bid                      0\n",
       "sum_time_to_respond          0\n",
       "median                     591\n",
       "min_bid                      0\n",
       "max_bid                      0\n",
       "avg_bid                      0\n",
       "sum_2nd_highest_bid        890\n",
       "sum_prebid_winning_bid       0\n",
       "sum_winning_bid           1083\n",
       "sum_nobid                 1167\n",
       "sum_timeout               1167\n",
       "dtype: int64"
      ]
     },
     "execution_count": 29,
     "metadata": {},
     "output_type": "execute_result"
    }
   ],
   "source": [
    "df.isnull().sum()"
   ]
  },
  {
   "cell_type": "code",
   "execution_count": 34,
   "id": "e2ff0f47",
   "metadata": {},
   "outputs": [],
   "source": [
    "df_2=df[['bidder','prebid_win_count']]"
   ]
  },
  {
   "cell_type": "code",
   "execution_count": 37,
   "id": "71046fa0",
   "metadata": {},
   "outputs": [
    {
     "data": {
      "text/html": [
       "<div>\n",
       "<style scoped>\n",
       "    .dataframe tbody tr th:only-of-type {\n",
       "        vertical-align: middle;\n",
       "    }\n",
       "\n",
       "    .dataframe tbody tr th {\n",
       "        vertical-align: top;\n",
       "    }\n",
       "\n",
       "    .dataframe thead th {\n",
       "        text-align: right;\n",
       "    }\n",
       "</style>\n",
       "<table border=\"1\" class=\"dataframe\">\n",
       "  <thead>\n",
       "    <tr style=\"text-align: right;\">\n",
       "      <th></th>\n",
       "      <th>bidder</th>\n",
       "      <th>prebid_win_count</th>\n",
       "    </tr>\n",
       "  </thead>\n",
       "  <tbody>\n",
       "    <tr>\n",
       "      <th>6</th>\n",
       "      <td>onemobile</td>\n",
       "      <td>188</td>\n",
       "    </tr>\n",
       "    <tr>\n",
       "      <th>5</th>\n",
       "      <td>medianet</td>\n",
       "      <td>108</td>\n",
       "    </tr>\n",
       "    <tr>\n",
       "      <th>4</th>\n",
       "      <td>ix</td>\n",
       "      <td>102</td>\n",
       "    </tr>\n",
       "    <tr>\n",
       "      <th>2</th>\n",
       "      <td>criteo</td>\n",
       "      <td>100</td>\n",
       "    </tr>\n",
       "    <tr>\n",
       "      <th>10</th>\n",
       "      <td>rhythmone</td>\n",
       "      <td>87</td>\n",
       "    </tr>\n",
       "    <tr>\n",
       "      <th>8</th>\n",
       "      <td>pubmatic</td>\n",
       "      <td>82</td>\n",
       "    </tr>\n",
       "    <tr>\n",
       "      <th>0</th>\n",
       "      <td>33across</td>\n",
       "      <td>74</td>\n",
       "    </tr>\n",
       "    <tr>\n",
       "      <th>1</th>\n",
       "      <td>appnexus</td>\n",
       "      <td>71</td>\n",
       "    </tr>\n",
       "    <tr>\n",
       "      <th>12</th>\n",
       "      <td>sharethrough</td>\n",
       "      <td>64</td>\n",
       "    </tr>\n",
       "    <tr>\n",
       "      <th>9</th>\n",
       "      <td>pulsepoint</td>\n",
       "      <td>59</td>\n",
       "    </tr>\n",
       "    <tr>\n",
       "      <th>15</th>\n",
       "      <td>triplelift</td>\n",
       "      <td>54</td>\n",
       "    </tr>\n",
       "    <tr>\n",
       "      <th>3</th>\n",
       "      <td>emx_digital</td>\n",
       "      <td>43</td>\n",
       "    </tr>\n",
       "    <tr>\n",
       "      <th>7</th>\n",
       "      <td>openx</td>\n",
       "      <td>42</td>\n",
       "    </tr>\n",
       "    <tr>\n",
       "      <th>16</th>\n",
       "      <td>undertone</td>\n",
       "      <td>29</td>\n",
       "    </tr>\n",
       "    <tr>\n",
       "      <th>14</th>\n",
       "      <td>teads</td>\n",
       "      <td>28</td>\n",
       "    </tr>\n",
       "    <tr>\n",
       "      <th>11</th>\n",
       "      <td>rubicon</td>\n",
       "      <td>26</td>\n",
       "    </tr>\n",
       "    <tr>\n",
       "      <th>13</th>\n",
       "      <td>sovrn</td>\n",
       "      <td>10</td>\n",
       "    </tr>\n",
       "  </tbody>\n",
       "</table>\n",
       "</div>"
      ],
      "text/plain": [
       "          bidder  prebid_win_count\n",
       "6      onemobile               188\n",
       "5       medianet               108\n",
       "4             ix               102\n",
       "2         criteo               100\n",
       "10     rhythmone                87\n",
       "8       pubmatic                82\n",
       "0       33across                74\n",
       "1       appnexus                71\n",
       "12  sharethrough                64\n",
       "9     pulsepoint                59\n",
       "15    triplelift                54\n",
       "3    emx_digital                43\n",
       "7          openx                42\n",
       "16     undertone                29\n",
       "14         teads                28\n",
       "11       rubicon                26\n",
       "13         sovrn                10"
      ]
     },
     "execution_count": 37,
     "metadata": {},
     "output_type": "execute_result"
    }
   ],
   "source": [
    "df_2.groupby(['bidder'])['prebid_win_count'].count().reset_index().sort_values(['prebid_win_count'],ascending=False)"
   ]
  },
  {
   "cell_type": "code",
   "execution_count": null,
   "id": "c390eb7f",
   "metadata": {},
   "outputs": [],
   "source": []
  }
 ],
 "metadata": {
  "kernelspec": {
   "display_name": "Python 3 (ipykernel)",
   "language": "python",
   "name": "python3"
  },
  "language_info": {
   "codemirror_mode": {
    "name": "ipython",
    "version": 3
   },
   "file_extension": ".py",
   "mimetype": "text/x-python",
   "name": "python",
   "nbconvert_exporter": "python",
   "pygments_lexer": "ipython3",
   "version": "3.10.5"
  }
 },
 "nbformat": 4,
 "nbformat_minor": 5
}
